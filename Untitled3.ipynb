{
 "cells": [
  {
   "cell_type": "code",
   "execution_count": null,
   "id": "766e78c1-3287-44de-80e6-b0bdc4e5f3aa",
   "metadata": {},
   "outputs": [],
   "source": [
    "x=int(input())\n",
    "# numbers=[x for x in (input()).split()] \n",
    "# nums = [int(i) for i in numbers]\n",
    "nums= list(map(int,input().split()))\n",
    "\n",
    "sereja=0\n",
    "dima=0\n",
    "\n",
    "while nums!= None:\n",
    "    if len(nums)==1:\n",
    "        sereja+=nums[0]\n",
    "    if nums[0]>nums[-1]:\n",
    "        sereja+=nums[0]\n",
    "        del(nums[0])\n",
    "    elif nums[0]<nums[-1]:\n",
    "        sereja+=nums[-1]\n",
    "        nums.pop()\n",
    "\n",
    "    if nums[0]>nums[-1]:\n",
    "        dima+=nums[0]\n",
    "        del(nums[0])\n",
    "    elif nums[0]<nums[-1]:\n",
    "        dima+=nums[-1]\n",
    "        nums.pop()    \n",
    "\n",
    "print(sereja , dima)            \n"
   ]
  },
  {
   "cell_type": "code",
   "execution_count": null,
   "id": "fb429069-40ff-4293-8b9d-0fded8d5fc3f",
   "metadata": {},
   "outputs": [],
   "source": [
    "x=int(input())\n",
    "a=0\n",
    "b=0\n",
    "z= list(map(int,input().split()))\n",
    "for i in z:\n",
    "    if len(z)==1:\n",
    "        a+=z[0]\n",
    "    if z[0]>=z[-1]:\n",
    "        a+=z[0] \n",
    "        z.remove(z[0])   \n",
    "    else: \n",
    "        a+=z[-1] \n",
    "        z.remove(z[-1]) \n",
    "    if z[0]>=z[-1]:\n",
    "        b+=z[0] \n",
    "        z.remove(z[0])   \n",
    "    else: \n",
    "        b+=z[-1] \n",
    "        z.remove(z[-1])\n",
    "         \n",
    "\n",
    "print(a,b ) "
   ]
  }
 ],
 "metadata": {
  "kernelspec": {
   "display_name": "Python 3 (ipykernel)",
   "language": "python",
   "name": "python3"
  },
  "language_info": {
   "codemirror_mode": {
    "name": "ipython",
    "version": 3
   },
   "file_extension": ".py",
   "mimetype": "text/x-python",
   "name": "python",
   "nbconvert_exporter": "python",
   "pygments_lexer": "ipython3",
   "version": "3.10.2"
  }
 },
 "nbformat": 4,
 "nbformat_minor": 5
}
